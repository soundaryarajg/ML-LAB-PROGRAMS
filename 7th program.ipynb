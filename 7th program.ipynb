{
 "cells": [
  {
   "cell_type": "code",
   "execution_count": 1,
   "metadata": {},
   "outputs": [
    {
     "ename": "SyntaxError",
     "evalue": "invalid syntax (<ipython-input-1-06e2850d0d6a>, line 7)",
     "output_type": "error",
     "traceback": [
      "\u001b[1;36m  File \u001b[1;32m\"<ipython-input-1-06e2850d0d6a>\"\u001b[1;36m, line \u001b[1;32m7\u001b[0m\n\u001b[1;33m    heartDisease = pd.read_csv('/Users/Chachu/Documents/Python Scripts/heart.csv') heartDisease = heartDisease.replace('?',np.nan)\u001b[0m\n\u001b[1;37m                                                                                   ^\u001b[0m\n\u001b[1;31mSyntaxError\u001b[0m\u001b[1;31m:\u001b[0m invalid syntax\n"
     ]
    }
   ],
   "source": [
    "import numpy as np \n",
    "import pandas as pd \n",
    "import csv \n",
    "from pgmpy.estimators import MaximumLikelihoodEstimator \n",
    "from pgmpy.models import BayesianModel \n",
    "from pgmpy.inference import VariableElimination  \n",
    "heartDisease = pd.read_csv('/Users/Chachu/Documents/Python Scripts/heart.csv') \n",
    "heartDisease = heartDisease.replace('?',np.nan) \n",
    "print('Sample instances from the dataset are given below') \n",
    "print(heartDisease.head()) \n",
    "print('\\n Attributes and datatypes') \n",
    "print(heartDisease.dtypes)  \n",
    "model=BayesianModel([('age','heartdisease'),('sex','heartdisease'),('exang','heartdisease'),('cp','heartdisease'),(' heartdisease', \n",
    "'restecg'),('heartdisease','chol')])  \n",
    "print('\\n Learning CPD using Maximum likelihood estimators') \n",
    "model.fit(heartDisease,estimator=MaximumLikelihoodEstimator) \n",
    "print('\\n Inferencing with Bayesian Network:') \n",
    "HeartDiseasetest_infer = VariableElimination(model)  \n",
    "print('\\n 1.Probability of HeartDisease given evidence=restecg :1') \n",
    "q1=HeartDiseasetest_infer.query(variables=['heartdisease'],evidence={'restecg':1}) print(q1)  \n",
    "print('\\n 2.Probability of HeartDisease given evidence= cp:2 ') \n",
    "q2=HeartDiseasetest_infer.query(variables=['heartdisease'],evidence={'cp':2}) print(q2)\n"
   ]
  },
  {
   "cell_type": "code",
   "execution_count": null,
   "metadata": {},
   "outputs": [],
   "source": []
  }
 ],
 "metadata": {
  "kernelspec": {
   "display_name": "Python 3",
   "language": "python",
   "name": "python3"
  },
  "language_info": {
   "codemirror_mode": {
    "name": "ipython",
    "version": 3
   },
   "file_extension": ".py",
   "mimetype": "text/x-python",
   "name": "python",
   "nbconvert_exporter": "python",
   "pygments_lexer": "ipython3",
   "version": "3.8.3"
  }
 },
 "nbformat": 4,
 "nbformat_minor": 4
}
